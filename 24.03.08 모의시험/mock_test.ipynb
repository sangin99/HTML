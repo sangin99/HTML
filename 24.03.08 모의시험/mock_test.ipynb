{
 "cells": [
  {
   "cell_type": "markdown",
   "metadata": {},
   "source": [
    "<h1 style='text-align: center; font-weight: 900; color: #114232; background-color: #ffffff'>2024. 03. 08. 모의 시험</h1>"
   ]
  },
  {
   "cell_type": "markdown",
   "metadata": {},
   "source": [
    "```bash\n",
    "pip install pandas numpy matplotlib\n",
    "```"
   ]
  },
  {
   "cell_type": "code",
   "execution_count": null,
   "metadata": {},
   "outputs": [],
   "source": [
    "import pandas as pd\n",
    "import numpy as np\n",
    "import matplotlib.pyplot as plt"
   ]
  },
  {
   "cell_type": "markdown",
   "metadata": {},
   "source": [
    "<h3 style='font-weight: 700; color: #214151; background-color: #ffffff'>1. 함께 첨부된 officetel_estate.csv 파일을 DataFrame 형식의  officetel_estate 라는 변수로 불러오시오.</h3>"
   ]
  },
  {
   "cell_type": "code",
   "execution_count": null,
   "metadata": {},
   "outputs": [],
   "source": [
    "# 1번 답안  --> 목차 :csv 불러오기 참고\n",
    "officetel_estate = pd.read_csv('officetel_estate.csv')\n",
    "officetel_estate"
   ]
  },
  {
   "cell_type": "markdown",
   "metadata": {},
   "source": [
    "<h3 style='font-weight: 700; color: #214151; background-color: #ffffff'>2. officetel_estate DataFrame 객체의 sequence 열을 행 인덱스로 변경하여 officetel_estate 변수에 저장하시오.</h3>"
   ]
  },
  {
   "cell_type": "code",
   "execution_count": null,
   "metadata": {},
   "outputs": [],
   "source": [
    "# 2번 답안  -> 목차 : 데이터프레임 인덱스 및 제거\n",
    "officetel_estate = officetel_estate.set_index('sequence')\n",
    "officetel_estate"
   ]
  },
  {
   "cell_type": "markdown",
   "metadata": {},
   "source": [
    "<h3 style='font-weight: 700; color: #214151; background-color: #ffffff'>3. officetel_estate DataFrame 객체에서 2021년의 행 만 출력하시오.</h3>"
   ]
  },
  {
   "cell_type": "code",
   "execution_count": null,
   "metadata": {},
   "outputs": [],
   "source": [
    "# 3번 답안 -> [] 배열인덱싱으로 조건 넣기\n",
    "# officetel_estate.year_month.str.contains('2021')    #? 2021 포함여부를 True . False 로 나온다 -> []배열 인덱싱으로 넣어 DataFrame 형태로 출력한다.\n",
    "officetel_estate[officetel_estate.year_month.str.contains('2021')]\n"
   ]
  },
  {
   "cell_type": "markdown",
   "metadata": {},
   "source": [
    "<h3 style='font-weight: 700; color: #214151; background-color: #ffffff'>4. officetel_estate DataFrame 객체에서 locale을 기준으로 그룹화하여 각 locale의 매매가 대비 전세가 (lease_to_sale_ratio)의 평균을 DataFrame으로 출력하시오. (평균은 소수점 이하 3번째 자리에서 반올림하시오.)</h3>"
   ]
  },
  {
   "cell_type": "code",
   "execution_count": null,
   "metadata": {},
   "outputs": [],
   "source": [
    "# 4번 답안 \n",
    "# officetel_estate.groupby(officetel_estate.locale).lease_to_sale_ratio.mean().round(2)\n",
    "officetel_estate.groupby(officetel_estate.locale)[['lease_to_sale_ratio']].mean().round(2)  #!  [[]] : 데이터 프레임 형태로 출력\n",
    "#?                        그룹화 하고                                                                       의 평균을 구한다 . 2자리까지만 출력한다 "
   ]
  },
  {
   "cell_type": "markdown",
   "metadata": {},
   "source": [
    "<h3 style='font-weight: 700; color: #214151; background-color: #ffffff'>5. officetel_estate DataFrame 객체에서 행 인덱스로 year_month, 열 인덱스로 locale, 데이터로 average_sale_price 를 가지는 피봇 테이블을 출력하시오.</h3>"
   ]
  },
  {
   "cell_type": "code",
   "execution_count": null,
   "metadata": {},
   "outputs": [],
   "source": [
    "# 5번 답안\n",
    "officetel_estate.pivot(index='year_month', columns='locale', values='average_sale_price')"
   ]
  },
  {
   "cell_type": "markdown",
   "metadata": {},
   "source": [
    "========분석 데이터 전처리====================================="
   ]
  },
  {
   "cell_type": "markdown",
   "metadata": {},
   "source": [
    "=========================================================="
   ]
  },
  {
   "cell_type": "markdown",
   "metadata": {},
   "source": [
    "<h3 style='font-weight: 700; color: #214151; background-color: #ffffff'>6. officetel_estate DataFrame 객체에서 busan의 year_month (2022년)에 대한 average_sale_price 변화를 나타내는 선 그래프를 pandas의 plot을 활용하여 아래와 같이 출력하시오.</h3>"
   ]
  },
  {
   "cell_type": "markdown",
   "metadata": {},
   "source": [
    "<img src='./mock_image/6.png' />"
   ]
  },
  {
   "cell_type": "code",
   "execution_count": null,
   "metadata": {},
   "outputs": [],
   "source": [
    "# 6번 답안\n",
    "officetel_estate[officetel_estate.year_month.str.contains('2022')].pivot(index='year_month', columns='locale', values='average_sale_price').busan.plot()\n",
    "# year_month 에 2022년 포함 여부 확인                                                 나온 데이터로 피벗테이블 만들기                                                                               문제에서 요구하는 부산 데이터.그래프 만들기\n",
    "\n",
    "# 문제와 같이 그래프 만들기\n",
    "plt.title('Average sale price change in Busan in 2022')\n",
    "plt.xlabel('Year - Month')\n",
    "plt.ylabel('Average Sale Price')\n",
    "plt.grid(True)\n",
    "plt.show()"
   ]
  },
  {
   "cell_type": "markdown",
   "metadata": {},
   "source": [
    "<h3 style='font-weight: 700; color: #214151; background-color: #ffffff'>7. officetel_estate DataFrame 객체에서 busan, ulsan, daegu의 year_month (2022년)에 대한 average_sale_price 변화를 나타내는 막대 그래프를 pandas의 plot을 활용하여 아래와 같이 출력하시오. (figure의 사이즈는 12, 8)</h3>"
   ]
  },
  {
   "cell_type": "markdown",
   "metadata": {},
   "source": [
    "<img src='./mock_image/7.png' />"
   ]
  },
  {
   "cell_type": "code",
   "execution_count": null,
   "metadata": {},
   "outputs": [],
   "source": [
    "# 7번 답안\n",
    "officetel_estate[officetel_estate.year_month.str.contains('2022')].pivot(index='year_month', columns='locale', values='average_sale_price')[['busan','ulsan','daegu']].plot.bar(rot=0, figsize=(12,8))\n",
    "#                                                                                    2022 데이터 뽑기 . 피벗테이블로 만들기                                                                                                뽑을 데이터 값                     바 그래프로 만들기 (rot : x축 글씨 회전 , 사이즈값)\n",
    "plt.ylim(120000, 180000)  # 문제와 같이 그래프 값 제한지정\n",
    "\n",
    "# 그래프 만들기\n",
    "plt.title('Average sale price change in Busan, Ulsan, Daegu in 2022')\n",
    "plt.xlabel('Year_month')\n",
    "plt.ylabel('Average Sale Price')\n",
    "plt.grid(True)\n",
    "plt.show()"
   ]
  },
  {
   "cell_type": "markdown",
   "metadata": {},
   "source": [
    "<h3 style='font-weight: 700; color: #214151; background-color: #ffffff'>8. officetel_estate DataFrame 객체에서 locale을 기준으로 그룹화하여 각 locale의 매매가 대비 전세가 (lease_to_sale_ratio)의 평균 중 서울의 막대그래프를  pandas의 plot을 활용하여 아래와 같이 출력하시오. (figure의 사이즈는 12, 8, 평균은 소수점 이하 3번째 자리에서 반올림하시오.)</h3>"
   ]
  },
  {
   "cell_type": "markdown",
   "metadata": {},
   "source": [
    "<img src='./mock_image/8.png' />"
   ]
  },
  {
   "cell_type": "code",
   "execution_count": null,
   "metadata": {},
   "outputs": [],
   "source": [
    "# 8번 답안\n",
    "officetel_estate[officetel_estate.locale.str.contains('seoul')].groupby(officetel_estate.locale).lease_to_sale_ratio.mean().round(2).plot.bar(rot=0, figsize=(12,8))\n",
    "#                                '서울' 이 포함된 값만 추출                                 뽑은 값을 그룹화                                                          평균 구하기   소수점2자리표현 \n",
    "plt.ylim(70, 90)\n",
    "plt.title('Average Lease To Sale Ratio By Locale')\n",
    "plt.xlabel('Locale')\n",
    "plt.ylabel('Lease To Sale Rttio')\n",
    "plt.grid(True)\n",
    "plt.show()"
   ]
  },
  {
   "cell_type": "markdown",
   "metadata": {},
   "source": [
    "============================================================================"
   ]
  },
  {
   "cell_type": "markdown",
   "metadata": {},
   "source": [
    "1. - numpy 배열과 파이썬 기본 리스트의 차이를 설명하시오\n",
    "2. - Series 클래스와 DataFrame 클래스에 대해 설명하시오\n",
    "3. - 라인 플롯,바 플롯, ... 에 대해 간단히 설명하고 어떤 경우에 사용되는지 설명하시오\n",
    "4. - numpy 배열에서 벡터화 연산이 파이썬 기본 리스트를 사용한 연산보다 어떤 점에서 장점인지 설명하시오\n",
    "5. - csv 확장자에 대해 설명 하시오\n",
    "6. - numpy 패키지와 pandas 패키지에 대해 설명하시오"
   ]
  }
 ],
 "metadata": {
  "kernelspec": {
   "display_name": "Python 3",
   "language": "python",
   "name": "python3"
  },
  "language_info": {
   "codemirror_mode": {
    "name": "ipython",
    "version": 3
   },
   "file_extension": ".py",
   "mimetype": "text/x-python",
   "name": "python",
   "nbconvert_exporter": "python",
   "pygments_lexer": "ipython3",
   "version": "3.12.2"
  }
 },
 "nbformat": 4,
 "nbformat_minor": 2
}
